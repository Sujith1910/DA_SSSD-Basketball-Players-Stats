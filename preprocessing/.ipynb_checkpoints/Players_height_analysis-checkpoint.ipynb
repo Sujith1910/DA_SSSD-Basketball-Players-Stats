{
 "cells": [
  {
   "cell_type": "code",
   "execution_count": 1,
   "metadata": {
    "_cell_guid": "e5ae50e7-9dfa-2a12-aba4-33946e5514d9",
    "_execution_state": "idle",
    "_uuid": "4cdae19055b27feca0f9cfa1a26a0237a0c1b765"
   },
   "outputs": [],
   "source": [
    "import numpy as np \n",
    "import pandas as pd \n",
    "import matplotlib.pyplot as plt\n",
    "import seaborn as sns"
   ]
  },
  {
   "cell_type": "code",
   "execution_count": 2,
   "metadata": {
    "_cell_guid": "33b69aa6-e1df-6198-a01e-06452701255b",
    "_execution_state": "idle",
    "_uuid": "840e844481b50f8437d9a7d173fedd224ed07b25"
   },
   "outputs": [],
   "source": [
    "players=pd.read_csv('../datasets/Players.csv')"
   ]
  },
  {
   "cell_type": "code",
   "execution_count": 3,
   "metadata": {
    "_cell_guid": "f8e015bc-3608-ee31-5ead-b3cc72f07425",
    "_execution_state": "idle",
    "_uuid": "136c27eadbd023a54f708ef8f3958523fcce77ba"
   },
   "outputs": [
    {
     "data": {
      "text/html": [
       "<div>\n",
       "<style scoped>\n",
       "    .dataframe tbody tr th:only-of-type {\n",
       "        vertical-align: middle;\n",
       "    }\n",
       "\n",
       "    .dataframe tbody tr th {\n",
       "        vertical-align: top;\n",
       "    }\n",
       "\n",
       "    .dataframe thead th {\n",
       "        text-align: right;\n",
       "    }\n",
       "</style>\n",
       "<table border=\"1\" class=\"dataframe\">\n",
       "  <thead>\n",
       "    <tr style=\"text-align: right;\">\n",
       "      <th></th>\n",
       "      <th>Unnamed: 0</th>\n",
       "      <th>Player</th>\n",
       "      <th>height</th>\n",
       "      <th>weight</th>\n",
       "      <th>collage</th>\n",
       "      <th>born</th>\n",
       "      <th>birth_city</th>\n",
       "      <th>birth_state</th>\n",
       "    </tr>\n",
       "  </thead>\n",
       "  <tbody>\n",
       "    <tr>\n",
       "      <th>0</th>\n",
       "      <td>0</td>\n",
       "      <td>Curly Armstrong</td>\n",
       "      <td>180.0</td>\n",
       "      <td>77.0</td>\n",
       "      <td>Indiana University</td>\n",
       "      <td>1918.0</td>\n",
       "      <td>NaN</td>\n",
       "      <td>NaN</td>\n",
       "    </tr>\n",
       "    <tr>\n",
       "      <th>1</th>\n",
       "      <td>1</td>\n",
       "      <td>Cliff Barker</td>\n",
       "      <td>188.0</td>\n",
       "      <td>83.0</td>\n",
       "      <td>University of Kentucky</td>\n",
       "      <td>1921.0</td>\n",
       "      <td>Yorktown</td>\n",
       "      <td>Indiana</td>\n",
       "    </tr>\n",
       "    <tr>\n",
       "      <th>2</th>\n",
       "      <td>2</td>\n",
       "      <td>Leo Barnhorst</td>\n",
       "      <td>193.0</td>\n",
       "      <td>86.0</td>\n",
       "      <td>University of Notre Dame</td>\n",
       "      <td>1924.0</td>\n",
       "      <td>NaN</td>\n",
       "      <td>NaN</td>\n",
       "    </tr>\n",
       "    <tr>\n",
       "      <th>3</th>\n",
       "      <td>3</td>\n",
       "      <td>Ed Bartels</td>\n",
       "      <td>196.0</td>\n",
       "      <td>88.0</td>\n",
       "      <td>North Carolina State University</td>\n",
       "      <td>1925.0</td>\n",
       "      <td>NaN</td>\n",
       "      <td>NaN</td>\n",
       "    </tr>\n",
       "    <tr>\n",
       "      <th>4</th>\n",
       "      <td>4</td>\n",
       "      <td>Ralph Beard</td>\n",
       "      <td>178.0</td>\n",
       "      <td>79.0</td>\n",
       "      <td>University of Kentucky</td>\n",
       "      <td>1927.0</td>\n",
       "      <td>Hardinsburg</td>\n",
       "      <td>Kentucky</td>\n",
       "    </tr>\n",
       "  </tbody>\n",
       "</table>\n",
       "</div>"
      ],
      "text/plain": [
       "   Unnamed: 0           Player  height  weight  \\\n",
       "0           0  Curly Armstrong   180.0    77.0   \n",
       "1           1     Cliff Barker   188.0    83.0   \n",
       "2           2    Leo Barnhorst   193.0    86.0   \n",
       "3           3       Ed Bartels   196.0    88.0   \n",
       "4           4      Ralph Beard   178.0    79.0   \n",
       "\n",
       "                           collage    born   birth_city birth_state  \n",
       "0               Indiana University  1918.0          NaN         NaN  \n",
       "1           University of Kentucky  1921.0     Yorktown     Indiana  \n",
       "2         University of Notre Dame  1924.0          NaN         NaN  \n",
       "3  North Carolina State University  1925.0          NaN         NaN  \n",
       "4           University of Kentucky  1927.0  Hardinsburg    Kentucky  "
      ]
     },
     "execution_count": 3,
     "metadata": {},
     "output_type": "execute_result"
    }
   ],
   "source": [
    "players.head()"
   ]
  },
  {
   "cell_type": "markdown",
   "metadata": {
    "_cell_guid": "203cb53b-1c06-b691-127a-d4c3925d4d6f",
    "_uuid": "a51f5515c9a7f9aff1e0ee04a7f973426e2c6f9d"
   },
   "source": [
    "### First Lets Start With Players Analysis"
   ]
  },
  {
   "cell_type": "code",
   "execution_count": 4,
   "metadata": {
    "_cell_guid": "3ef811f3-5940-9ba5-3641-51b013aa2a0c",
    "_execution_state": "idle",
    "_uuid": "92a0af4bee3fa0f36d294f8b46b6cab0d37d248d"
   },
   "outputs": [
    {
     "data": {
      "text/plain": [
       "(3922, 8)"
      ]
     },
     "execution_count": 4,
     "metadata": {},
     "output_type": "execute_result"
    }
   ],
   "source": [
    "players.shape #shape of the dataframe"
   ]
  },
  {
   "cell_type": "code",
   "execution_count": 5,
   "metadata": {
    "_cell_guid": "a8c26df0-b277-c922-0639-53431830a4c2",
    "_execution_state": "idle",
    "_uuid": "cf0aff053773745906bc689eb04c9a165e0a10db"
   },
   "outputs": [
    {
     "data": {
      "text/plain": [
       "Unnamed: 0       0\n",
       "Player           1\n",
       "height           1\n",
       "weight           1\n",
       "collage        349\n",
       "born             1\n",
       "birth_city     470\n",
       "birth_state    483\n",
       "dtype: int64"
      ]
     },
     "execution_count": 5,
     "metadata": {},
     "output_type": "execute_result"
    }
   ],
   "source": [
    "players.isnull().sum()    #checking data quality"
   ]
  },
  {
   "cell_type": "markdown",
   "metadata": {
    "_cell_guid": "4c4809f6-9f52-a294-5d1a-0391c177a3df",
    "_uuid": "7c4fb0f25fadeb53233d8a46b9da273e28a068fe"
   },
   "source": [
    "We can see that there is a null value in a players name. Thus we should delete it"
   ]
  },
  {
   "cell_type": "markdown",
   "metadata": {
    "_cell_guid": "c1bdc2f8-8977-dc01-7d0c-1af1a4caac91",
    "_uuid": "d8a06444c98cb46bc94aac2fe02b7ff25c9cedb3"
   },
   "source": [
    "### Players Data Cleaning"
   ]
  },
  {
   "cell_type": "code",
   "execution_count": 6,
   "metadata": {
    "_cell_guid": "1b4191b7-623c-4196-491c-b4a61eb07173",
    "_execution_state": "idle",
    "_uuid": "8a13d474a7ea09d526dd8b4706126b694fe03814"
   },
   "outputs": [],
   "source": [
    "players.drop('Unnamed: 0' ,axis=1,inplace=True)"
   ]
  },
  {
   "cell_type": "code",
   "execution_count": 7,
   "metadata": {
    "_cell_guid": "e9fc45e7-2bcb-2ae8-6f42-d418a55fc23a",
    "_execution_state": "idle",
    "_uuid": "5b60f7b70817f44ad81a00743eb406989646dd17"
   },
   "outputs": [],
   "source": [
    "players.dropna(how='all',inplace=True) #dropping the player whose value is null"
   ]
  },
  {
   "cell_type": "code",
   "execution_count": 8,
   "metadata": {
    "_cell_guid": "6aa3fbe7-3d40-8f0e-2f7f-1b4b09c61157",
    "_execution_state": "idle",
    "_uuid": "6acac38c05b6bb39b41918a6a35db474bc43b061"
   },
   "outputs": [
    {
     "data": {
      "text/html": [
       "<div>\n",
       "<style scoped>\n",
       "    .dataframe tbody tr th:only-of-type {\n",
       "        vertical-align: middle;\n",
       "    }\n",
       "\n",
       "    .dataframe tbody tr th {\n",
       "        vertical-align: top;\n",
       "    }\n",
       "\n",
       "    .dataframe thead th {\n",
       "        text-align: right;\n",
       "    }\n",
       "</style>\n",
       "<table border=\"1\" class=\"dataframe\">\n",
       "  <thead>\n",
       "    <tr style=\"text-align: right;\">\n",
       "      <th></th>\n",
       "      <th>height</th>\n",
       "      <th>weight</th>\n",
       "      <th>collage</th>\n",
       "      <th>born</th>\n",
       "      <th>birth_city</th>\n",
       "      <th>birth_state</th>\n",
       "    </tr>\n",
       "    <tr>\n",
       "      <th>Player</th>\n",
       "      <th></th>\n",
       "      <th></th>\n",
       "      <th></th>\n",
       "      <th></th>\n",
       "      <th></th>\n",
       "      <th></th>\n",
       "    </tr>\n",
       "  </thead>\n",
       "  <tbody>\n",
       "    <tr>\n",
       "      <th>Curly Armstrong</th>\n",
       "      <td>180.0</td>\n",
       "      <td>77.0</td>\n",
       "      <td>Indiana University</td>\n",
       "      <td>1918.0</td>\n",
       "      <td>NaN</td>\n",
       "      <td>NaN</td>\n",
       "    </tr>\n",
       "    <tr>\n",
       "      <th>Cliff Barker</th>\n",
       "      <td>188.0</td>\n",
       "      <td>83.0</td>\n",
       "      <td>University of Kentucky</td>\n",
       "      <td>1921.0</td>\n",
       "      <td>Yorktown</td>\n",
       "      <td>Indiana</td>\n",
       "    </tr>\n",
       "  </tbody>\n",
       "</table>\n",
       "</div>"
      ],
      "text/plain": [
       "                 height  weight                 collage    born birth_city  \\\n",
       "Player                                                                       \n",
       "Curly Armstrong   180.0    77.0      Indiana University  1918.0        NaN   \n",
       "Cliff Barker      188.0    83.0  University of Kentucky  1921.0   Yorktown   \n",
       "\n",
       "                birth_state  \n",
       "Player                       \n",
       "Curly Armstrong         NaN  \n",
       "Cliff Barker        Indiana  "
      ]
     },
     "execution_count": 8,
     "metadata": {},
     "output_type": "execute_result"
    }
   ],
   "source": [
    "players.set_index('Player',inplace=True) #setting the player name as the dataframe indexx\n",
    "players.head(2)"
   ]
  },
  {
   "cell_type": "markdown",
   "metadata": {
    "_cell_guid": "157cc519-433a-7d5d-089c-df5c9186a9c7",
    "_uuid": "1d3ffd334fadd9d22f0a5d784435453232ac76dd"
   },
   "source": [
    "### Basic Analysis"
   ]
  },
  {
   "cell_type": "code",
   "execution_count": 9,
   "metadata": {
    "_cell_guid": "411265bc-db5e-20a0-377d-48d6b6358b5d",
    "_execution_state": "idle",
    "_uuid": "18215e92b9199b4bbf313c6010abfe586c6637c3"
   },
   "outputs": [
    {
     "name": "stdout",
     "output_type": "stream",
     "text": [
      "The Tallest Player in NBA History is: Manute Bol  with height= 231.0  cm\n",
      "The Heaviest Player in NBA History is: Sim Bhullar  with weight= 163.0  kg\n"
     ]
    }
   ],
   "source": [
    "print('The Tallest Player in NBA History is:',players['height'].idxmax(),' with height=',players['height'].max(),' cm')\n",
    "print('The Heaviest Player in NBA History is:',players['weight'].idxmax(),' with weight=',players['weight'].max(),' kg')"
   ]
  },
  {
   "cell_type": "code",
   "execution_count": 10,
   "metadata": {
    "_cell_guid": "04e964a3-1436-c059-0753-1351ba65dfea",
    "_execution_state": "idle",
    "_uuid": "0aaf6242140c22dc976776791bbec01ad537be8a"
   },
   "outputs": [
    {
     "name": "stdout",
     "output_type": "stream",
     "text": [
      "The Shortest Player in NBA History is: Muggsy Bogues  with height= 160.0  cm\n",
      "The Lightest Player in NBA History is: Spud Webb  with weight= 60.0  kg\n"
     ]
    }
   ],
   "source": [
    "print('The Shortest Player in NBA History is:',players['height'].idxmin(),' with height=',players['height'].min(),' cm')\n",
    "print('The Lightest Player in NBA History is:',players['weight'].idxmin(),' with weight=',players['weight'].min(),' kg')"
   ]
  },
  {
   "cell_type": "code",
   "execution_count": 11,
   "metadata": {
    "_cell_guid": "c426ba1f-d2b9-c4ee-b575-9fca65ea0264",
    "_execution_state": "idle",
    "_uuid": "d9e64d4e1eb23708350b1b4868d6be8a1d9308ec"
   },
   "outputs": [
    {
     "name": "stdout",
     "output_type": "stream",
     "text": [
      "The average height of NBA Players is  198.70492221372098\n",
      "The average weight of NBA Players is  94.78321856669217\n"
     ]
    }
   ],
   "source": [
    "print('The average height of NBA Players is ',players['height'].mean())\n",
    "print('The average weight of NBA Players is ',players['weight'].mean())"
   ]
  },
  {
   "cell_type": "markdown",
   "metadata": {
    "_cell_guid": "316eb829-a70d-28a0-bae2-b19a71a11d71",
    "_uuid": "e5ab2823fade2f9288c62ca535e28f42b1e07bb4"
   },
   "source": [
    "The average height comes around 6.5 feet. That's more than the average height of people in many countries..:p"
   ]
  },
  {
   "cell_type": "markdown",
   "metadata": {
    "_cell_guid": "6ccfeef8-20dc-bcd9-77fe-02e23c0929d7",
    "_uuid": "032a7d11ec0dfef080c4dfec424fb77fadd1a40b"
   },
   "source": [
    "### Distribution Of Heights"
   ]
  },
  {
   "cell_type": "code",
   "execution_count": 12,
   "metadata": {
    "_cell_guid": "d1cbb804-729a-49b0-cfd2-77ae5620af3b",
    "_execution_state": "idle",
    "_uuid": "47af7ab24d4a34cbf5cfc0c5f89a9a2784e11295"
   },
   "outputs": [
    {
     "data": {
      "text/plain": [
       "[]"
      ]
     },
     "execution_count": 12,
     "metadata": {},
     "output_type": "execute_result"
    },
    {
     "data": {
      "image/png": "[encoded data removed]",
      "text/plain": [
       "<Figure size 432x288 with 1 Axes>"
      ]
     },
     "metadata": {
      "needs_background": "light"
     },
     "output_type": "display_data"
    }
   ],
   "source": [
    "bins=range(150,250,10)\n",
    "plt.hist(players[\"height\"],bins,histtype=\"bar\",rwidth=1,color='#0ff0ff')\n",
    "plt.xlabel('Height in Cm')\n",
    "plt.ylabel('Count')\n",
    "plt.axvline(players[\"height\"].mean(), color='b', linestyle='dashed', linewidth=2)\n",
    "plt.plot()"
   ]
  },
  {
   "cell_type": "markdown",
   "metadata": {
    "_cell_guid": "6f500fa0-a040-9419-1dfb-470feb3c4531",
    "_uuid": "e956978f34b0de5a488f611c587f10434d7aed91"
   },
   "source": [
    "**Observations:**\n",
    "The heights of the players are majorly in the range 200-210 cm followed by range 190-200 cm. The mean height as seen is around 199 cm"
   ]
  },
  {
   "cell_type": "markdown",
   "metadata": {
    "_cell_guid": "2bfcc86f-f577-0667-6ca7-e9ae9b6de9df",
    "_uuid": "d57ef1557dda44d0ae268268c9c982ad22cf5aa8"
   },
   "source": [
    "### Distribution Of Weights"
   ]
  },
  {
   "cell_type": "code",
   "execution_count": 13,
   "metadata": {
    "_cell_guid": "019af654-1c63-197e-883e-9085ea10efa5",
    "_execution_state": "idle",
    "_uuid": "10729efb11155e888f9ad934c484d54ca1360e52"
   },
   "outputs": [
    {
     "data": {
      "text/plain": [
       "[]"
      ]
     },
     "execution_count": 13,
     "metadata": {},
     "output_type": "execute_result"
    },
    {
     "data": {
      "image/png": "[encoded data removed]",
      "text/plain": [
       "<Figure size 432x288 with 1 Axes>"
      ]
     },
     "metadata": {
      "needs_background": "light"
     },
     "output_type": "display_data"
    }
   ],
   "source": [
    "bins=range(60,180,10)\n",
    "plt.hist(players[\"weight\"],bins,histtype=\"bar\",rwidth=1.2,color='Blue')\n",
    "plt.xlabel('Weight in Kg')\n",
    "plt.ylabel('Count')\n",
    "plt.axvline(players[\"weight\"].mean(), color='black', linestyle='dashed', linewidth=2)\n",
    "plt.plot()"
   ]
  },
  {
   "cell_type": "markdown",
   "metadata": {
    "_cell_guid": "8cc5f0f4-98aa-37d7-e035-64d9e3bc2df9",
    "_uuid": "708dd37b31de1329de0faf10ff9b3ae568f3517f"
   },
   "source": [
    "**Observations:** \n",
    "The weights of players are majorly in the range 90-100 kgs and the mean weight is around 95 kg"
   ]
  },
  {
   "cell_type": "markdown",
   "metadata": {
    "_cell_guid": "2b0449a2-6b76-da9a-408c-a2b98ec546c4",
    "_uuid": "742bf911a4fc162f0725f5b9b513592a4eb4b5dd"
   },
   "source": [
    "### Colleges Giving Maximum Players "
   ]
  },
  {
   "cell_type": "code",
   "execution_count": 14,
   "metadata": {
    "_cell_guid": "a37ecddb-3f24-2ad8-e600-c67c26a5e271",
    "_execution_state": "idle",
    "_uuid": "69f9f811a32d8ca18ebc012823ee1706a26fd4d5"
   },
   "outputs": [
    {
     "data": {
      "image/png": "[encoded data removed]",
      "text/plain": [
       "<Figure size 432x288 with 1 Axes>"
      ]
     },
     "metadata": {
      "needs_background": "light"
     },
     "output_type": "display_data"
    }
   ],
   "source": [
    "college=players.groupby(['collage'])['height'].count().reset_index().sort_values(by='height',ascending=False)[:10]\n",
    "college.set_index('collage',inplace=True)\n",
    "college.columns=['Count']\n",
    "ax=college.plot.bar(width=0.8)\n",
    "for p in ax.patches:\n",
    "    ax.annotate(format(p.get_height()), (p.get_x()+0.15, p.get_height()+0.35))\n",
    "plt.show()"
   ]
  },
  {
   "cell_type": "code",
   "execution_count": 15,
   "metadata": {
    "_cell_guid": "5db33322-b991-14c2-87b9-d81d63543ba2",
    "_execution_state": "idle",
    "_uuid": "93ffe6195b6b473e4f2342f08d5321616e74f57d"
   },
   "outputs": [
    {
     "data": {
      "image/png": "[encoded data removed]",
      "text/plain": [
       "<Figure size 432x288 with 1 Axes>"
      ]
     },
     "metadata": {
      "needs_background": "light"
     },
     "output_type": "display_data"
    }
   ],
   "source": [
    "city=players.groupby(['birth_state'])['height'].count().reset_index().sort_values(by='height',ascending=False)[:10]\n",
    "city.set_index('birth_state',inplace=True)\n",
    "city.columns=['Count']\n",
    "ax=city.plot.bar(width=0.8,color='#ab1abf')\n",
    "for p in ax.patches:\n",
    "    ax.annotate(format(p.get_height()), (p.get_x()+0.15, p.get_height()+1))\n",
    "plt.show()"
   ]
  },
  {
   "cell_type": "markdown",
   "metadata": {
    "_cell_guid": "9fe3aacb-43da-9e36-eb53-17723153b25e",
    "_uuid": "3a88bfc1bed05ffc6056cb457b2b543837586f4f"
   },
   "source": [
    "California has the highest number of players followed by New-York."
   ]
  }
 ],
 "metadata": {
  "kernelspec": {
   "display_name": "Python 3",
   "language": "python",
   "name": "python3"
  },
  "language_info": {
   "codemirror_mode": {
    "name": "ipython",
    "version": 3
   },
   "file_extension": ".py",
   "mimetype": "text/x-python",
   "name": "python",
   "nbconvert_exporter": "python",
   "pygments_lexer": "ipython3",
   "version": "3.8.3"
  }
 },
 "nbformat": 4,
 "nbformat_minor": 1
}
