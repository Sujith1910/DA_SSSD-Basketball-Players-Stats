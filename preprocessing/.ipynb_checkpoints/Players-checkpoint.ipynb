{
 "cells": [
  {
   "cell_type": "code",
   "execution_count": 1,
   "metadata": {},
   "outputs": [],
   "source": [
    "import pandas as pd\n",
    "import numpy as np\n",
    "import os\n",
    "import matplotlib.pyplot as plt\n",
    "import seaborn as sns\n"
   ]
  },
  {
   "cell_type": "code",
   "execution_count": 2,
   "metadata": {},
   "outputs": [
    {
     "data": {
      "text/html": [
       "<div>\n",
       "<style scoped>\n",
       "    .dataframe tbody tr th:only-of-type {\n",
       "        vertical-align: middle;\n",
       "    }\n",
       "\n",
       "    .dataframe tbody tr th {\n",
       "        vertical-align: top;\n",
       "    }\n",
       "\n",
       "    .dataframe thead th {\n",
       "        text-align: right;\n",
       "    }\n",
       "</style>\n",
       "<table border=\"1\" class=\"dataframe\">\n",
       "  <thead>\n",
       "    <tr style=\"text-align: right;\">\n",
       "      <th></th>\n",
       "      <th>Unnamed: 0</th>\n",
       "      <th>Player</th>\n",
       "      <th>height</th>\n",
       "      <th>weight</th>\n",
       "      <th>collage</th>\n",
       "      <th>born</th>\n",
       "      <th>birth_city</th>\n",
       "      <th>birth_state</th>\n",
       "    </tr>\n",
       "  </thead>\n",
       "  <tbody>\n",
       "    <tr>\n",
       "      <th>0</th>\n",
       "      <td>0</td>\n",
       "      <td>Curly Armstrong</td>\n",
       "      <td>180.0</td>\n",
       "      <td>77.0</td>\n",
       "      <td>Indiana University</td>\n",
       "      <td>1918.0</td>\n",
       "      <td>NaN</td>\n",
       "      <td>NaN</td>\n",
       "    </tr>\n",
       "    <tr>\n",
       "      <th>1</th>\n",
       "      <td>1</td>\n",
       "      <td>Cliff Barker</td>\n",
       "      <td>188.0</td>\n",
       "      <td>83.0</td>\n",
       "      <td>University of Kentucky</td>\n",
       "      <td>1921.0</td>\n",
       "      <td>Yorktown</td>\n",
       "      <td>Indiana</td>\n",
       "    </tr>\n",
       "    <tr>\n",
       "      <th>2</th>\n",
       "      <td>2</td>\n",
       "      <td>Leo Barnhorst</td>\n",
       "      <td>193.0</td>\n",
       "      <td>86.0</td>\n",
       "      <td>University of Notre Dame</td>\n",
       "      <td>1924.0</td>\n",
       "      <td>NaN</td>\n",
       "      <td>NaN</td>\n",
       "    </tr>\n",
       "    <tr>\n",
       "      <th>3</th>\n",
       "      <td>3</td>\n",
       "      <td>Ed Bartels</td>\n",
       "      <td>196.0</td>\n",
       "      <td>88.0</td>\n",
       "      <td>North Carolina State University</td>\n",
       "      <td>1925.0</td>\n",
       "      <td>NaN</td>\n",
       "      <td>NaN</td>\n",
       "    </tr>\n",
       "    <tr>\n",
       "      <th>4</th>\n",
       "      <td>4</td>\n",
       "      <td>Ralph Beard</td>\n",
       "      <td>178.0</td>\n",
       "      <td>79.0</td>\n",
       "      <td>University of Kentucky</td>\n",
       "      <td>1927.0</td>\n",
       "      <td>Hardinsburg</td>\n",
       "      <td>Kentucky</td>\n",
       "    </tr>\n",
       "  </tbody>\n",
       "</table>\n",
       "</div>"
      ],
      "text/plain": [
       "   Unnamed: 0           Player  height  weight  \\\n",
       "0           0  Curly Armstrong   180.0    77.0   \n",
       "1           1     Cliff Barker   188.0    83.0   \n",
       "2           2    Leo Barnhorst   193.0    86.0   \n",
       "3           3       Ed Bartels   196.0    88.0   \n",
       "4           4      Ralph Beard   178.0    79.0   \n",
       "\n",
       "                           collage    born   birth_city birth_state  \n",
       "0               Indiana University  1918.0          NaN         NaN  \n",
       "1           University of Kentucky  1921.0     Yorktown     Indiana  \n",
       "2         University of Notre Dame  1924.0          NaN         NaN  \n",
       "3  North Carolina State University  1925.0          NaN         NaN  \n",
       "4           University of Kentucky  1927.0  Hardinsburg    Kentucky  "
      ]
     },
     "execution_count": 2,
     "metadata": {},
     "output_type": "execute_result"
    }
   ],
   "source": [
    "\n",
    "df = pd.read_csv(\"../datasets/Players.csv\")\n",
    "# Take a look at the first few rows\n",
    "df.head()"
   ]
  },
  {
   "cell_type": "code",
   "execution_count": 18,
   "metadata": {},
   "outputs": [
    {
     "name": "stdout",
     "output_type": "stream",
     "text": [
      "<class 'pandas.core.frame.DataFrame'>\n",
      "Int64Index: 3189 entries, 1 to 3919\n",
      "Data columns (total 8 columns):\n",
      " #   Column       Non-Null Count  Dtype \n",
      "---  ------       --------------  ----- \n",
      " 0   Unnamed: 0   3189 non-null   int64 \n",
      " 1   Player       3189 non-null   object\n",
      " 2   height       3189 non-null   int64 \n",
      " 3   weight       3189 non-null   int64 \n",
      " 4   collage      3189 non-null   object\n",
      " 5   born         3189 non-null   int64 \n",
      " 6   birth_city   3189 non-null   object\n",
      " 7   birth_state  3189 non-null   object\n",
      "dtypes: int64(4), object(4)\n",
      "memory usage: 224.2+ KB\n"
     ]
    }
   ],
   "source": [
    "\n",
    "df.info()"
   ]
  },
  {
   "cell_type": "code",
   "execution_count": 4,
   "metadata": {},
   "outputs": [
    {
     "data": {
      "text/html": [
       "<div>\n",
       "<style scoped>\n",
       "    .dataframe tbody tr th:only-of-type {\n",
       "        vertical-align: middle;\n",
       "    }\n",
       "\n",
       "    .dataframe tbody tr th {\n",
       "        vertical-align: top;\n",
       "    }\n",
       "\n",
       "    .dataframe thead th {\n",
       "        text-align: right;\n",
       "    }\n",
       "</style>\n",
       "<table border=\"1\" class=\"dataframe\">\n",
       "  <thead>\n",
       "    <tr style=\"text-align: right;\">\n",
       "      <th></th>\n",
       "      <th>Unnamed: 0</th>\n",
       "      <th>height</th>\n",
       "      <th>weight</th>\n",
       "      <th>born</th>\n",
       "    </tr>\n",
       "  </thead>\n",
       "  <tbody>\n",
       "    <tr>\n",
       "      <th>count</th>\n",
       "      <td>3922.000000</td>\n",
       "      <td>3921.000000</td>\n",
       "      <td>3921.000000</td>\n",
       "      <td>3921.00000</td>\n",
       "    </tr>\n",
       "    <tr>\n",
       "      <th>mean</th>\n",
       "      <td>1960.500000</td>\n",
       "      <td>198.704922</td>\n",
       "      <td>94.783219</td>\n",
       "      <td>1962.37975</td>\n",
       "    </tr>\n",
       "    <tr>\n",
       "      <th>std</th>\n",
       "      <td>1132.328206</td>\n",
       "      <td>9.269761</td>\n",
       "      <td>12.039515</td>\n",
       "      <td>20.33491</td>\n",
       "    </tr>\n",
       "    <tr>\n",
       "      <th>min</th>\n",
       "      <td>0.000000</td>\n",
       "      <td>160.000000</td>\n",
       "      <td>60.000000</td>\n",
       "      <td>1913.00000</td>\n",
       "    </tr>\n",
       "    <tr>\n",
       "      <th>25%</th>\n",
       "      <td>980.250000</td>\n",
       "      <td>190.000000</td>\n",
       "      <td>86.000000</td>\n",
       "      <td>1948.00000</td>\n",
       "    </tr>\n",
       "    <tr>\n",
       "      <th>50%</th>\n",
       "      <td>1960.500000</td>\n",
       "      <td>198.000000</td>\n",
       "      <td>95.000000</td>\n",
       "      <td>1964.00000</td>\n",
       "    </tr>\n",
       "    <tr>\n",
       "      <th>75%</th>\n",
       "      <td>2940.750000</td>\n",
       "      <td>206.000000</td>\n",
       "      <td>102.000000</td>\n",
       "      <td>1979.00000</td>\n",
       "    </tr>\n",
       "    <tr>\n",
       "      <th>max</th>\n",
       "      <td>3921.000000</td>\n",
       "      <td>231.000000</td>\n",
       "      <td>163.000000</td>\n",
       "      <td>1997.00000</td>\n",
       "    </tr>\n",
       "  </tbody>\n",
       "</table>\n",
       "</div>"
      ],
      "text/plain": [
       "        Unnamed: 0       height       weight        born\n",
       "count  3922.000000  3921.000000  3921.000000  3921.00000\n",
       "mean   1960.500000   198.704922    94.783219  1962.37975\n",
       "std    1132.328206     9.269761    12.039515    20.33491\n",
       "min       0.000000   160.000000    60.000000  1913.00000\n",
       "25%     980.250000   190.000000    86.000000  1948.00000\n",
       "50%    1960.500000   198.000000    95.000000  1964.00000\n",
       "75%    2940.750000   206.000000   102.000000  1979.00000\n",
       "max    3921.000000   231.000000   163.000000  1997.00000"
      ]
     },
     "execution_count": 4,
     "metadata": {},
     "output_type": "execute_result"
    }
   ],
   "source": [
    "df.describe()"
   ]
  },
  {
   "cell_type": "code",
   "execution_count": 19,
   "metadata": {},
   "outputs": [
    {
     "data": {
      "text/plain": [
       "1       False\n",
       "4       False\n",
       "6       False\n",
       "7       False\n",
       "8       False\n",
       "        ...  \n",
       "3915    False\n",
       "3916    False\n",
       "3917    False\n",
       "3918    False\n",
       "3919    False\n",
       "Name: birth_city, Length: 3189, dtype: bool"
      ]
     },
     "execution_count": 19,
     "metadata": {},
     "output_type": "execute_result"
    }
   ],
   "source": [
    "df['birth_city']\n",
    "df['birth_city'].isnull()"
   ]
  },
  {
   "cell_type": "code",
   "execution_count": 6,
   "metadata": {},
   "outputs": [],
   "source": [
    "cnt=0\n",
    "for row in df['birth_city']:\n",
    "    try:\n",
    "        int(row)\n",
    "        df.loc[cnt, 'birth_city']=np.isnan\n",
    "    except ValueError:\n",
    "        pass\n",
    "    cnt+=1"
   ]
  },
  {
   "cell_type": "code",
   "execution_count": 20,
   "metadata": {},
   "outputs": [
    {
     "data": {
      "text/plain": [
       "1       False\n",
       "4       False\n",
       "6       False\n",
       "7       False\n",
       "8       False\n",
       "        ...  \n",
       "3915    False\n",
       "3916    False\n",
       "3917    False\n",
       "3918    False\n",
       "3919    False\n",
       "Name: birth_city, Length: 3189, dtype: bool"
      ]
     },
     "execution_count": 20,
     "metadata": {},
     "output_type": "execute_result"
    }
   ],
   "source": [
    "df['birth_city'].isnull()"
   ]
  },
  {
   "cell_type": "code",
   "execution_count": 8,
   "metadata": {},
   "outputs": [
    {
     "name": "stdout",
     "output_type": "stream",
     "text": [
      "      Unnamed: 0             Player  height  weight  \\\n",
      "0              0    Curly Armstrong   180.0    77.0   \n",
      "1              1       Cliff Barker   188.0    83.0   \n",
      "2              2      Leo Barnhorst   193.0    86.0   \n",
      "3              3         Ed Bartels   196.0    88.0   \n",
      "4              4        Ralph Beard   178.0    79.0   \n",
      "...          ...                ...     ...     ...   \n",
      "3917        3917      Troy Williams   198.0    97.0   \n",
      "3918        3918       Kyle Wiltjer   208.0   108.0   \n",
      "3919        3919  Stephen Zimmerman   213.0   108.0   \n",
      "3920        3920        Paul Zipser   203.0    97.0   \n",
      "3921        3921        Ivica Zubac   216.0   120.0   \n",
      "\n",
      "                              collage    born      birth_city  \\\n",
      "0                  Indiana University  1918.0             NaN   \n",
      "1              University of Kentucky  1921.0        Yorktown   \n",
      "2            University of Notre Dame  1924.0             NaN   \n",
      "3     North Carolina State University  1925.0             NaN   \n",
      "4              University of Kentucky  1927.0     Hardinsburg   \n",
      "...                               ...     ...             ...   \n",
      "3917  South Carolina State University  1969.0        Columbia   \n",
      "3918               Gonzaga University  1992.0        Portland   \n",
      "3919  University of Nevada, Las Vegas  1996.0  Hendersonville   \n",
      "3920                              NaN  1994.0      Heidelberg   \n",
      "3921                              NaN  1997.0          Mostar   \n",
      "\n",
      "                 birth_state  \n",
      "0                        NaN  \n",
      "1                    Indiana  \n",
      "2                        NaN  \n",
      "3                        NaN  \n",
      "4                   Kentucky  \n",
      "...                      ...  \n",
      "3917          South Carolina  \n",
      "3918                  Oregon  \n",
      "3919               Tennessee  \n",
      "3920                 Germany  \n",
      "3921  Bosnia and Herzegovina  \n",
      "\n",
      "[3922 rows x 8 columns]\n"
     ]
    }
   ],
   "source": [
    "print(df"
   ]
  },
  {
   "cell_type": "code",
   "execution_count": 9,
   "metadata": {},
   "outputs": [],
   "source": [
    "df.dropna(subset = [\"birth_state\"], inplace=True)\n"
   ]
  },
  {
   "cell_type": "code",
   "execution_count": 10,
   "metadata": {},
   "outputs": [
    {
     "name": "stdout",
     "output_type": "stream",
     "text": [
      "      Unnamed: 0             Player  height  weight  \\\n",
      "1              1       Cliff Barker   188.0    83.0   \n",
      "4              4        Ralph Beard   178.0    79.0   \n",
      "6              6      Charlie Black   196.0    90.0   \n",
      "7              7        Nelson Bobb   183.0    77.0   \n",
      "8              8    Jake Bornheimer   196.0    90.0   \n",
      "...          ...                ...     ...     ...   \n",
      "3917        3917      Troy Williams   198.0    97.0   \n",
      "3918        3918       Kyle Wiltjer   208.0   108.0   \n",
      "3919        3919  Stephen Zimmerman   213.0   108.0   \n",
      "3920        3920        Paul Zipser   203.0    97.0   \n",
      "3921        3921        Ivica Zubac   216.0   120.0   \n",
      "\n",
      "                              collage    born      birth_city  \\\n",
      "1              University of Kentucky  1921.0        Yorktown   \n",
      "4              University of Kentucky  1927.0     Hardinsburg   \n",
      "6                University of Kansas  1921.0            Arco   \n",
      "7                   Temple University  1924.0    Philadelphia   \n",
      "8                  Muhlenberg College  1927.0   New Brunswick   \n",
      "...                               ...     ...             ...   \n",
      "3917  South Carolina State University  1969.0        Columbia   \n",
      "3918               Gonzaga University  1992.0        Portland   \n",
      "3919  University of Nevada, Las Vegas  1996.0  Hendersonville   \n",
      "3920                              NaN  1994.0      Heidelberg   \n",
      "3921                              NaN  1997.0          Mostar   \n",
      "\n",
      "                 birth_state  \n",
      "1                    Indiana  \n",
      "4                   Kentucky  \n",
      "6                      Idaho  \n",
      "7               Pennsylvania  \n",
      "8                 New Jersey  \n",
      "...                      ...  \n",
      "3917          South Carolina  \n",
      "3918                  Oregon  \n",
      "3919               Tennessee  \n",
      "3920                 Germany  \n",
      "3921  Bosnia and Herzegovina  \n",
      "\n",
      "[3439 rows x 8 columns]\n"
     ]
    }
   ],
   "source": [
    "print(df)"
   ]
  },
  {
   "cell_type": "code",
   "execution_count": 11,
   "metadata": {},
   "outputs": [],
   "source": [
    "df.dropna(subset = [\"birth_city\"], inplace=True)\n"
   ]
  },
  {
   "cell_type": "code",
   "execution_count": 12,
   "metadata": {},
   "outputs": [
    {
     "name": "stdout",
     "output_type": "stream",
     "text": [
      "      Unnamed: 0             Player  height  weight  \\\n",
      "1              1       Cliff Barker   188.0    83.0   \n",
      "4              4        Ralph Beard   178.0    79.0   \n",
      "6              6      Charlie Black   196.0    90.0   \n",
      "7              7        Nelson Bobb   183.0    77.0   \n",
      "8              8    Jake Bornheimer   196.0    90.0   \n",
      "...          ...                ...     ...     ...   \n",
      "3917        3917      Troy Williams   198.0    97.0   \n",
      "3918        3918       Kyle Wiltjer   208.0   108.0   \n",
      "3919        3919  Stephen Zimmerman   213.0   108.0   \n",
      "3920        3920        Paul Zipser   203.0    97.0   \n",
      "3921        3921        Ivica Zubac   216.0   120.0   \n",
      "\n",
      "                              collage    born      birth_city  \\\n",
      "1              University of Kentucky  1921.0        Yorktown   \n",
      "4              University of Kentucky  1927.0     Hardinsburg   \n",
      "6                University of Kansas  1921.0            Arco   \n",
      "7                   Temple University  1924.0    Philadelphia   \n",
      "8                  Muhlenberg College  1927.0   New Brunswick   \n",
      "...                               ...     ...             ...   \n",
      "3917  South Carolina State University  1969.0        Columbia   \n",
      "3918               Gonzaga University  1992.0        Portland   \n",
      "3919  University of Nevada, Las Vegas  1996.0  Hendersonville   \n",
      "3920                              NaN  1994.0      Heidelberg   \n",
      "3921                              NaN  1997.0          Mostar   \n",
      "\n",
      "                 birth_state  \n",
      "1                    Indiana  \n",
      "4                   Kentucky  \n",
      "6                      Idaho  \n",
      "7               Pennsylvania  \n",
      "8                 New Jersey  \n",
      "...                      ...  \n",
      "3917          South Carolina  \n",
      "3918                  Oregon  \n",
      "3919               Tennessee  \n",
      "3920                 Germany  \n",
      "3921  Bosnia and Herzegovina  \n",
      "\n",
      "[3439 rows x 8 columns]\n"
     ]
    }
   ],
   "source": [
    "print(df)"
   ]
  },
  {
   "cell_type": "code",
   "execution_count": 13,
   "metadata": {},
   "outputs": [],
   "source": [
    "df.dropna(subset = [\"collage\"], inplace=True)\n"
   ]
  },
  {
   "cell_type": "code",
   "execution_count": 14,
   "metadata": {},
   "outputs": [
    {
     "name": "stdout",
     "output_type": "stream",
     "text": [
      "      Unnamed: 0             Player  height  weight  \\\n",
      "1              1       Cliff Barker   188.0    83.0   \n",
      "4              4        Ralph Beard   178.0    79.0   \n",
      "6              6      Charlie Black   196.0    90.0   \n",
      "7              7        Nelson Bobb   183.0    77.0   \n",
      "8              8    Jake Bornheimer   196.0    90.0   \n",
      "...          ...                ...     ...     ...   \n",
      "3915        3915        Okaro White   203.0    92.0   \n",
      "3916        3916   Isaiah Whitehead   193.0    96.0   \n",
      "3917        3917      Troy Williams   198.0    97.0   \n",
      "3918        3918       Kyle Wiltjer   208.0   108.0   \n",
      "3919        3919  Stephen Zimmerman   213.0   108.0   \n",
      "\n",
      "                              collage    born      birth_city     birth_state  \n",
      "1              University of Kentucky  1921.0        Yorktown         Indiana  \n",
      "4              University of Kentucky  1927.0     Hardinsburg        Kentucky  \n",
      "6                University of Kansas  1921.0            Arco           Idaho  \n",
      "7                   Temple University  1924.0    Philadelphia    Pennsylvania  \n",
      "8                  Muhlenberg College  1927.0   New Brunswick      New Jersey  \n",
      "...                               ...     ...             ...             ...  \n",
      "3915         Florida State University  1992.0      Clearwater         Florida  \n",
      "3916            Seton Hall University  1995.0        Brooklyn        New York  \n",
      "3917  South Carolina State University  1969.0        Columbia  South Carolina  \n",
      "3918               Gonzaga University  1992.0        Portland          Oregon  \n",
      "3919  University of Nevada, Las Vegas  1996.0  Hendersonville       Tennessee  \n",
      "\n",
      "[3189 rows x 8 columns]\n"
     ]
    }
   ],
   "source": [
    "print(df)"
   ]
  },
  {
   "cell_type": "code",
   "execution_count": 15,
   "metadata": {},
   "outputs": [],
   "source": [
    "df[['height', 'weight','born']] = df[['height','weight','born']].astype('int')\n"
   ]
  },
  {
   "cell_type": "code",
   "execution_count": 16,
   "metadata": {},
   "outputs": [
    {
     "name": "stdout",
     "output_type": "stream",
     "text": [
      "      Unnamed: 0             Player  height  weight  \\\n",
      "1              1       Cliff Barker     188      83   \n",
      "4              4        Ralph Beard     178      79   \n",
      "6              6      Charlie Black     196      90   \n",
      "7              7        Nelson Bobb     183      77   \n",
      "8              8    Jake Bornheimer     196      90   \n",
      "...          ...                ...     ...     ...   \n",
      "3915        3915        Okaro White     203      92   \n",
      "3916        3916   Isaiah Whitehead     193      96   \n",
      "3917        3917      Troy Williams     198      97   \n",
      "3918        3918       Kyle Wiltjer     208     108   \n",
      "3919        3919  Stephen Zimmerman     213     108   \n",
      "\n",
      "                              collage  born      birth_city     birth_state  \n",
      "1              University of Kentucky  1921        Yorktown         Indiana  \n",
      "4              University of Kentucky  1927     Hardinsburg        Kentucky  \n",
      "6                University of Kansas  1921            Arco           Idaho  \n",
      "7                   Temple University  1924    Philadelphia    Pennsylvania  \n",
      "8                  Muhlenberg College  1927   New Brunswick      New Jersey  \n",
      "...                               ...   ...             ...             ...  \n",
      "3915         Florida State University  1992      Clearwater         Florida  \n",
      "3916            Seton Hall University  1995        Brooklyn        New York  \n",
      "3917  South Carolina State University  1969        Columbia  South Carolina  \n",
      "3918               Gonzaga University  1992        Portland          Oregon  \n",
      "3919  University of Nevada, Las Vegas  1996  Hendersonville       Tennessee  \n",
      "\n",
      "[3189 rows x 8 columns]\n"
     ]
    }
   ],
   "source": [
    "print(df)"
   ]
  },
  {
   "cell_type": "code",
   "execution_count": null,
   "metadata": {},
   "outputs": [],
   "source": []
  }
 ],
 "metadata": {
  "kernelspec": {
   "display_name": "Python 3",
   "language": "python",
   "name": "python3"
  },
  "language_info": {
   "codemirror_mode": {
    "name": "ipython",
    "version": 3
   },
   "file_extension": ".py",
   "mimetype": "text/x-python",
   "name": "python",
   "nbconvert_exporter": "python",
   "pygments_lexer": "ipython3",
   "version": "3.8.3"
  }
 },
 "nbformat": 4,
 "nbformat_minor": 4
}
